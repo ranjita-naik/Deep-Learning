{
 "cells": [
  {
   "cell_type": "markdown",
   "metadata": {},
   "source": [
    "**Python Version   : 2.7.11** <br>\n",
    "**Ipython Version  : 4.0.1**"
   ]
  },
  {
   "cell_type": "code",
   "execution_count": 51,
   "metadata": {
    "collapsed": true
   },
   "outputs": [],
   "source": [
    "try:\n",
    "    import ipy_table\n",
    "except ImportError, e:\n",
    "    !pip install ipy_table\n",
    "    \n",
    "import os\n",
    "import six\n",
    "import gzip\n",
    "import pylab\n",
    "import cPickle\n",
    "import traitlets\n",
    "import numpy as np\n",
    "from ipy_table import *\n",
    "from itertools import izip as zip, count\n",
    "from ipywidgets import interact, interactive, fixed\n",
    "import ipywidgets as widgets\n",
    "\n",
    "# let's embed the plots in the notebook itself\n",
    "%matplotlib inline"
   ]
  },
  {
   "cell_type": "code",
   "execution_count": 52,
   "metadata": {
    "collapsed": false
   },
   "outputs": [],
   "source": [
    "# Load the dataset\n",
    "f = gzip.open('data/mnist.pkl.gz', 'rb')\n",
    "\n",
    "# 50,000 , 10,000, 10,000 images\n",
    "train_set, valid_set, test_set = cPickle.load(f)\n",
    "f.close()\n",
    "\n",
    "# An array of 50,000 images, each image is itself an array of 784 values (gray scale between 0 and 1)\n",
    "training_inputs = [np.reshape(x, (1, 784)) for x in train_set[0]]\n",
    "\n",
    "# 50,000  integers that encode the corresponding labels \n",
    "training_results = [y for y in train_set[1]]"
   ]
  },
  {
   "cell_type": "code",
   "execution_count": 54,
   "metadata": {
    "collapsed": true
   },
   "outputs": [],
   "source": [
    "def set_mnist_pos_neg(positive_label, negative_label):\n",
    "    \"\"\"\n",
    "    Generates postitive and negative classes based on the provided labels\n",
    "    \n",
    "    Arguments:\n",
    "    \n",
    "    positive_label -- digit for the positive class\n",
    "    negative_label -- digit for the negative class \n",
    "    \n",
    "    Returns:\n",
    "    \n",
    "    Returns images with postive and negative labels    \n",
    "    \"\"\"\n",
    "    positive_indices = [i for i, j in zip(count(), training_results) if j == positive_label]\n",
    "    negative_indices = [i for i, j in zip(count(), training_results) if j == negative_label]\n",
    "    \n",
    "    pos_images = [ training_inputs[index] for index in positive_indices ]\n",
    "    neg_images = [ training_inputs[index] for index in negative_indices ]\n",
    "    \n",
    "    fig = pylab.figure()\n",
    "    ax = fig.add_subplot(1, 2, 1)\n",
    "    pylab.imshow(pos_images[0].reshape(28,28), cmap='gray', interpolation='nearest')\n",
    "    ax.set_xticks([])\n",
    "    ax.set_yticks([])\n",
    "    ax = fig.add_subplot(1, 2, 2)\n",
    "    pylab.imshow(neg_images[0].reshape(28,28), cmap='gray', interpolation='nearest')\n",
    "    ax.set_xticks([])\n",
    "    ax.set_yticks([])\n",
    "    pylab.show()\n",
    "    \n",
    "    return pos_images, neg_images"
   ]
  },
  {
   "cell_type": "code",
   "execution_count": 55,
   "metadata": {
    "collapsed": true
   },
   "outputs": [],
   "source": [
    "def training_slideshow_10(step):\n",
    "    fig = pylab.figure(figsize=(10,4))\n",
    "    ax = fig.add_subplot(1, 2, 1)\n",
    "    pylab.imshow(snapshots[step][0].reshape(28, 28), interpolation='nearest')\n",
    "    ax.set_xticks([])\n",
    "    ax.set_yticks([])\n",
    "    pylab.colorbar()\n",
    "    fig.add_subplot(1, 2, 2)\n",
    "    pylab.plot(np.arange(len(averages)), averages)\n",
    "    pylab.plot(step, averages[step], \"bo\")\n",
    "    pylab.show()"
   ]
  },
  {
   "cell_type": "code",
   "execution_count": 56,
   "metadata": {
    "collapsed": true
   },
   "outputs": [],
   "source": [
    "def train_perceptron(positive_samples, negative_samples, num_iterations = 100):\n",
    "    \"\"\"\n",
    "    Trains a perceptron\n",
    "    \n",
    "    Arguments:\n",
    "    \n",
    "    positive_samples -- ndarray (num_samples, num_dims) of data points from the positive class\n",
    "    negative_samples -- ndarray (num_samples, num_dims) of data points from the negative class\n",
    "\n",
    "    Keyword arguments:\n",
    "    \n",
    "    num_iterations -- Number of iterations to run the algorithm.\n",
    "    \n",
    "    Returns:\n",
    "    \n",
    "    List of snapshots in the form [(step, weights_0, confusion_matrix_0), (weights_1, confusion_matrix_1), ...]    \n",
    "    \"\"\"\n",
    "    num_dims = np.shape(positive_samples[0])[1]\n",
    "    print num_dims\n",
    "    \n",
    "    # initialise the weights\n",
    "    weights = np.zeros((num_dims,1))  \n",
    "    \n",
    "    pos_count = np.shape(positive_samples)[0]\n",
    "    neg_count = np.shape(negative_samples)[0]\n",
    "\n",
    "    np.set_printoptions(precision=2, suppress=True)\n",
    "    report_frequency = max(num_iterations / 100, 1)\n",
    "    \n",
    "    snapshots = []\n",
    "\n",
    "    for i in six.moves.range(num_iterations):\n",
    "        # select a positive and a negative example\n",
    "        pos = positive_samples[i]\n",
    "        neg = negative_samples[i]\n",
    "\n",
    "        # present the positive example\n",
    "        pos_out = np.dot(pos, weights)\n",
    "               \n",
    "        if pos_out < 0:\n",
    "            # if there was a mistake, update the weights\n",
    "            weights = weights + pos.reshape(weights.shape)\n",
    "\n",
    "        # present the negative example\n",
    "        neg_out = np.dot(neg, weights)\n",
    "        if neg_out >= 0:\n",
    "            # if there was a mistake, update the weights\n",
    "            weights = weights - neg.reshape(weights.shape)\n",
    "                        \n",
    "        pos_out = np.dot(positive_samples, weights)\n",
    "        neg_out = np.dot(negative_samples, weights)        \n",
    "\n",
    "        pos_correct = (pos_out >= 0).sum() / float(pos_count)\n",
    "        neg_correct = (neg_out < 0).sum() / float(neg_count)\n",
    "\n",
    "        confusion_matrix = np.zeros((2,2))\n",
    "        confusion_matrix[0,0] = pos_correct\n",
    "        confusion_matrix[0,1] = 1 - pos_correct\n",
    "        confusion_matrix[1,1] = neg_correct\n",
    "        confusion_matrix[1,0] = 1 - neg_correct\n",
    "            \n",
    "        #print np.average(confusion_matrix.diagonal())\n",
    "                        \n",
    "        snapshots.append((np.copy(weights), confusion_matrix))            \n",
    "\n",
    "    return snapshots"
   ]
  },
  {
   "cell_type": "code",
   "execution_count": 57,
   "metadata": {
    "collapsed": false
   },
   "outputs": [
    {
     "data": {
      "image/png": "[encoded data removed]",
      "text/plain": [
       "<matplotlib.figure.Figure at 0x7bad438>"
      ]
     },
     "metadata": {},
     "output_type": "display_data"
    }
   ],
   "source": [
    "positive_images, negative_images = set_mnist_pos_neg(1, 0)\n",
    "\n",
    "snapshots = train_perceptron(positive_images, negative_images, 500)     \n",
    "averages = [np.average(confusion_matrix.diagonal()) for (weights, confusion_matrix) in snapshots]\n",
    "\n",
    "interact(training_slideshow_10, step=widgets.IntSlider(value=0, min=0, max=len(snapshots) - 1))"
   ]
  },
  {
   "cell_type": "markdown",
   "metadata": {},
   "source": [
    "####  This does well. Could this be due to the fact that 1s and 0s are visually different?  Hmm...Let's try 2 & 5 in the next example. "
   ]
  }
 ],
 "metadata": {
  "kernelspec": {
   "display_name": "Python 2",
   "language": "python",
   "name": "python2"
  },
  "language_info": {
   "codemirror_mode": {
    "name": "ipython",
    "version": 2
   },
   "file_extension": ".py",
   "mimetype": "text/x-python",
   "name": "python",
   "nbconvert_exporter": "python",
   "pygments_lexer": "ipython2",
   "version": "2.7.11"
  }
 },
 "nbformat": 4,
 "nbformat_minor": 0
}
