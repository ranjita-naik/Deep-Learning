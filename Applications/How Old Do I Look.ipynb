{
 "cells": [
  {
   "cell_type": "markdown",
   "metadata": {},
   "source": [
    "**Python Version   : 2.7.11** <br>\n",
    "**Ipython Version  : 4.0.1**"
   ]
  },
  {
   "cell_type": "code",
   "execution_count": 1,
   "metadata": {
    "collapsed": false
   },
   "outputs": [],
   "source": [
    "try:\n",
    "    import ipy_table\n",
    "except ImportError, e:\n",
    "    !pip install ipy_table\n",
    "    \n",
    "import httplib, urllib, base64, json\n",
    "from IPython.display import display, HTML\n",
    "from ipy_table import *"
   ]
  },
  {
   "cell_type": "code",
   "execution_count": 2,
   "metadata": {
    "collapsed": false
   },
   "outputs": [],
   "source": [
    "def detect_age_gender(image_url):\n",
    "\n",
    "    ###############################################\n",
    "    #### Update or verify the following values. ###\n",
    "    ###############################################\n",
    "\n",
    "    # Replace the subscription_key string value with your valid subscription key.\n",
    "    subscription_key = 'a0338f71640f4d08a3a0bb898419f00d'\n",
    "\n",
    "    # Replace or verify the region.\n",
    "    #\n",
    "    # You must use the same region in your REST API call as you used to obtain your subscription keys.\n",
    "    # For example, if you obtained your subscription keys from the westus region, replace \n",
    "    # \"westcentralus\" in the URI below with \"westus\".\n",
    "    #\n",
    "    # NOTE: Free trial subscription keys are generated in the westcentralus region, so if you are using\n",
    "    # a free trial subscription key, you should not need to change this region.\n",
    "    uri_base = 'westcentralus.api.cognitive.microsoft.com'\n",
    "\n",
    "    # Request headers.\n",
    "    headers = {\n",
    "        'Content-Type': 'application/json',\n",
    "        'Ocp-Apim-Subscription-Key': subscription_key,\n",
    "    }\n",
    "\n",
    "    # Request parameters.\n",
    "    params = urllib.urlencode({\n",
    "        'returnFaceId': 'true',\n",
    "        'returnFaceLandmarks': 'false',\n",
    "        'returnFaceAttributes': 'age,gender,headPose,smile,facialHair,glasses,emotion,hair,makeup,occlusion,accessories,blur,exposure,noise',\n",
    "        })\n",
    "\n",
    "    # The URL of a JPEG image to analyze.\n",
    "    body = \"{{'url': '{}'}}\".format(image_url)\n",
    "\n",
    "    try:\n",
    "        # Execute the REST API call and get the response.\n",
    "        conn = httplib.HTTPSConnection('westcentralus.api.cognitive.microsoft.com')\n",
    "        conn.request(\"POST\", \"/face/v1.0/detect?%s\" % params, body, headers)\n",
    "        response = conn.getresponse()\n",
    "        data = response.read()\n",
    "\n",
    "        # 'data' contains the JSON data. The following formats the JSON data for display.\n",
    "        results = json.loads(data)\n",
    "        #print (\"Response:\")\n",
    "        #print (json.dumps(results, sort_keys=True, indent=2))\n",
    "        conn.close()\n",
    "        \n",
    "        attributes = [[result['faceAttributes']['age'], result['faceAttributes']['gender'], result['faceAttributes']['glasses']] \n",
    "                    for result in results]\n",
    "\n",
    "\n",
    "        table = [['Age', 'Gender', 'glasses']]\n",
    "        table.extend(attributes)\n",
    "    \n",
    "        make_table(table)\n",
    "        apply_theme('basic')\n",
    "        set_global_style(float_format='%0.3f')    \n",
    "\n",
    "        format_string = \"<table><tr><td><img src='{}' width='500'/></td><td>{}</td></table>\"\n",
    "        html = format_string.format(image_url, render()._repr_html_())\n",
    "        \n",
    "        return html\n",
    "        \n",
    "\n",
    "    except Exception as e:\n",
    "        print('Error:')\n",
    "        print(e)\n"
   ]
  },
  {
   "cell_type": "code",
   "execution_count": 3,
   "metadata": {
    "collapsed": false
   },
   "outputs": [
    {
     "data": {
      "text/html": [
       "<table><tr><td><img src='https://upload.wikimedia.org/wikipedia/en/e/e1/Anita_Borg.jpg' width='500'/></td><td><table border=\"1\" cellpadding=\"3\" cellspacing=\"0\"  style=\"border:black; border-collapse:collapse;\"><tr><td  style=\"background-color:LightGray;border-left: 1px solid;border-right: 1px solid;border-top: 1px solid;border-bottom: 1px solid;\"><b>Age</b></td><td  style=\"background-color:LightGray;border-left: 1px solid;border-right: 1px solid;border-top: 1px solid;border-bottom: 1px solid;\"><b>Gender</b></td><td  style=\"background-color:LightGray;border-left: 1px solid;border-right: 1px solid;border-top: 1px solid;border-bottom: 1px solid;\"><b>glasses</b></td></tr><tr><td  style=\"background-color:Ivory;border-left: 1px solid;border-right: 1px solid;border-top: 1px solid;border-bottom: 1px solid;\">50.500</td><td  style=\"background-color:Ivory;border-left: 1px solid;border-right: 1px solid;border-top: 1px solid;border-bottom: 1px solid;\">female</td><td  style=\"background-color:Ivory;border-left: 1px solid;border-right: 1px solid;border-top: 1px solid;border-bottom: 1px solid;\">NoGlasses</td></tr></table></td></table>"
      ],
      "text/plain": [
       "<IPython.core.display.HTML object>"
      ]
     },
     "metadata": {},
     "output_type": "display_data"
    }
   ],
   "source": [
    "# Example 1\n",
    "image_url = \"https://upload.wikimedia.org/wikipedia/en/e/e1/Anita_Borg.jpg\"\n",
    "display(HTML(detect_age_gender(image_url)))"
   ]
  },
  {
   "cell_type": "code",
   "execution_count": 4,
   "metadata": {
    "collapsed": false
   },
   "outputs": [
    {
     "data": {
      "text/html": [
       "<table><tr><td><img src='http://www.rutherfordjournal.org/images/TAHC_rosenblatt-sepia.jpg' width='500'/></td><td><table border=\"1\" cellpadding=\"3\" cellspacing=\"0\"  style=\"border:black; border-collapse:collapse;\"><tr><td  style=\"background-color:LightGray;border-left: 1px solid;border-right: 1px solid;border-top: 1px solid;border-bottom: 1px solid;\"><b>Age</b></td><td  style=\"background-color:LightGray;border-left: 1px solid;border-right: 1px solid;border-top: 1px solid;border-bottom: 1px solid;\"><b>Gender</b></td><td  style=\"background-color:LightGray;border-left: 1px solid;border-right: 1px solid;border-top: 1px solid;border-bottom: 1px solid;\"><b>glasses</b></td></tr><tr><td  style=\"background-color:Ivory;border-left: 1px solid;border-right: 1px solid;border-top: 1px solid;border-bottom: 1px solid;\">29.900</td><td  style=\"background-color:Ivory;border-left: 1px solid;border-right: 1px solid;border-top: 1px solid;border-bottom: 1px solid;\">male</td><td  style=\"background-color:Ivory;border-left: 1px solid;border-right: 1px solid;border-top: 1px solid;border-bottom: 1px solid;\">ReadingGlasses</td></tr></table></td></table>"
      ],
      "text/plain": [
       "<IPython.core.display.HTML object>"
      ]
     },
     "metadata": {},
     "output_type": "display_data"
    }
   ],
   "source": [
    "# Example 2\n",
    "image_url = \"http://www.rutherfordjournal.org/images/TAHC_rosenblatt-sepia.jpg\"\n",
    "display(HTML(detect_age_gender(image_url)))"
   ]
  },
  {
   "cell_type": "code",
   "execution_count": 5,
   "metadata": {
    "collapsed": false
   },
   "outputs": [
    {
     "data": {
      "text/html": [
       "<table><tr><td><img src='https://upload.wikimedia.org/wikipedia/commons/3/39/GodfreyKneller-IsaacNewton-1689.jpg' width='500'/></td><td><table border=\"1\" cellpadding=\"3\" cellspacing=\"0\"  style=\"border:black; border-collapse:collapse;\"><tr><td  style=\"background-color:LightGray;border-left: 1px solid;border-right: 1px solid;border-top: 1px solid;border-bottom: 1px solid;\"><b>Age</b></td><td  style=\"background-color:LightGray;border-left: 1px solid;border-right: 1px solid;border-top: 1px solid;border-bottom: 1px solid;\"><b>Gender</b></td><td  style=\"background-color:LightGray;border-left: 1px solid;border-right: 1px solid;border-top: 1px solid;border-bottom: 1px solid;\"><b>glasses</b></td></tr><tr><td  style=\"background-color:Ivory;border-left: 1px solid;border-right: 1px solid;border-top: 1px solid;border-bottom: 1px solid;\">37.800</td><td  style=\"background-color:Ivory;border-left: 1px solid;border-right: 1px solid;border-top: 1px solid;border-bottom: 1px solid;\">male</td><td  style=\"background-color:Ivory;border-left: 1px solid;border-right: 1px solid;border-top: 1px solid;border-bottom: 1px solid;\">NoGlasses</td></tr></table></td></table>"
      ],
      "text/plain": [
       "<IPython.core.display.HTML object>"
      ]
     },
     "metadata": {},
     "output_type": "display_data"
    }
   ],
   "source": [
    "# Example 3\n",
    "image_url = \"https://upload.wikimedia.org/wikipedia/commons/3/39/GodfreyKneller-IsaacNewton-1689.jpg\"\n",
    "display(HTML(detect_age_gender(image_url)))"
   ]
  },
  {
   "cell_type": "code",
   "execution_count": 6,
   "metadata": {
    "collapsed": false
   },
   "outputs": [
    {
     "data": {
      "text/html": [
       "<table><tr><td><img src='https://pbs.twimg.com/profile_images/1895923530/Turing_at_13_400x400.png' width='500'/></td><td><table border=\"1\" cellpadding=\"3\" cellspacing=\"0\"  style=\"border:black; border-collapse:collapse;\"><tr><td  style=\"background-color:LightGray;border-left: 1px solid;border-right: 1px solid;border-top: 1px solid;border-bottom: 1px solid;\"><b>Age</b></td><td  style=\"background-color:LightGray;border-left: 1px solid;border-right: 1px solid;border-top: 1px solid;border-bottom: 1px solid;\"><b>Gender</b></td><td  style=\"background-color:LightGray;border-left: 1px solid;border-right: 1px solid;border-top: 1px solid;border-bottom: 1px solid;\"><b>glasses</b></td></tr><tr><td  style=\"background-color:Ivory;border-left: 1px solid;border-right: 1px solid;border-top: 1px solid;border-bottom: 1px solid;\">21.600</td><td  style=\"background-color:Ivory;border-left: 1px solid;border-right: 1px solid;border-top: 1px solid;border-bottom: 1px solid;\">male</td><td  style=\"background-color:Ivory;border-left: 1px solid;border-right: 1px solid;border-top: 1px solid;border-bottom: 1px solid;\">NoGlasses</td></tr></table></td></table>"
      ],
      "text/plain": [
       "<IPython.core.display.HTML object>"
      ]
     },
     "metadata": {},
     "output_type": "display_data"
    }
   ],
   "source": [
    "# Example 4\n",
    "image_url = \"https://pbs.twimg.com/profile_images/1895923530/Turing_at_13_400x400.png\"\n",
    "display(HTML(detect_age_gender(image_url)))"
   ]
  },
  {
   "cell_type": "code",
   "execution_count": null,
   "metadata": {
    "collapsed": true
   },
   "outputs": [],
   "source": []
  }
 ],
 "metadata": {
  "kernelspec": {
   "display_name": "Python 2",
   "language": "python",
   "name": "python2"
  },
  "language_info": {
   "codemirror_mode": {
    "name": "ipython",
    "version": 2
   },
   "file_extension": ".py",
   "mimetype": "text/x-python",
   "name": "python",
   "nbconvert_exporter": "python",
   "pygments_lexer": "ipython2",
   "version": "2.7.11"
  }
 },
 "nbformat": 4,
 "nbformat_minor": 0
}
