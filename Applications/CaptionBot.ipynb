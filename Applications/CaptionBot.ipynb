{
 "cells": [
  {
   "cell_type": "markdown",
   "metadata": {
    "collapsed": false
   },
   "source": [
    "### CaptionBot - https://www.captionbot.ai/\n",
    "**Python Version   : 2.7.11** <br>\n",
    "**Ipython Version  : 4.0.1**"
   ]
  },
  {
   "cell_type": "code",
   "execution_count": 1,
   "metadata": {
    "collapsed": true
   },
   "outputs": [],
   "source": [
    "import httplib, urllib, base64, json\n",
    "from IPython.display import display, HTML\n",
    "from ipy_table import *"
   ]
  },
  {
   "cell_type": "code",
   "execution_count": 2,
   "metadata": {
    "collapsed": false
   },
   "outputs": [],
   "source": [
    "def analyze_image(image_url):\n",
    "\n",
    "    ###############################################\n",
    "    #### Update or verify the following values. ###\n",
    "    ###############################################\n",
    "\n",
    "    # Replace the subscription_key string value with your valid subscription key.\n",
    "    subscription_key = '6e9f3f6185c24faa8a00eb6460c62d23'\n",
    "\n",
    "    # Replace or verify the region.\n",
    "    #\n",
    "    # You must use the same region in your REST API call as you used to obtain your subscription keys.\n",
    "    # For example, if you obtained your subscription keys from the westus region, replace \n",
    "    # \"westcentralus\" in the URI below with \"westus\".\n",
    "    #\n",
    "    # NOTE: Free trial subscription keys are generated in the westcentralus region, so if you are using\n",
    "    # a free trial subscription key, you should not need to change this region.\n",
    "    uri_base = 'westcentralus.api.cognitive.microsoft.com'\n",
    "\n",
    "    headers = {\n",
    "        # Request headers.\n",
    "        'Content-Type': 'application/json',\n",
    "        'Ocp-Apim-Subscription-Key': subscription_key,\n",
    "    }\n",
    "\n",
    "    params = urllib.urlencode({\n",
    "        # Request parameters. All of them are optional.\n",
    "        'visualFeatures': 'Categories,Description,Color',\n",
    "        'language': 'en',\n",
    "    })\n",
    "\n",
    "    # The URL of a JPEG image to analyze.\n",
    "    body = \"{{'url': '{}'}}\".format(image_url)\n",
    "\n",
    "    try:\n",
    "        # Execute the REST API call and get the response.\n",
    "        conn = httplib.HTTPSConnection('westcentralus.api.cognitive.microsoft.com')\n",
    "        conn.request(\"POST\", \"/vision/v1.0/analyze?%s\" % params, body, headers)\n",
    "        response = conn.getresponse()\n",
    "        data = response.read()\n",
    "        conn.close()\n",
    "\n",
    "        # 'data' contains the JSON data. The following formats the JSON data for display.\n",
    "        result = json.loads(data)\n",
    "        \n",
    "        # print the response\n",
    "        # print (\"Response:\")\n",
    "        # print (json.dumps(result, sort_keys=True, indent=2))\n",
    "        \n",
    "        captions = [['Caption', caption['text'], caption['confidence']] \n",
    "                    for caption in result['description']['captions']]\n",
    "\n",
    "        table = [['Property', 'Text', 'Confidence']]\n",
    "        table.extend(captions)\n",
    "    \n",
    "        make_table(table)\n",
    "        apply_theme('basic')\n",
    "        set_global_style(float_format='%0.3f')    \n",
    "\n",
    "        format_string = \"<table><tr><td><img src='{}' width='500'/></td><td>{}</td></table>\"\n",
    "        html = format_string.format(image_url, render()._repr_html_())\n",
    "        \n",
    "        return html\n",
    "\n",
    "    except Exception as e:\n",
    "        print('Error:')\n",
    "        print(e)\n"
   ]
  },
  {
   "cell_type": "code",
   "execution_count": 3,
   "metadata": {
    "collapsed": false
   },
   "outputs": [
    {
     "data": {
      "text/html": [
       "<table><tr><td><img src='http://thequotes.in/wp-content/uploads/2016/05/Albert-Einstein-Quotes-26.jpg' width='500'/></td><td><table border=\"1\" cellpadding=\"3\" cellspacing=\"0\"  style=\"border:black; border-collapse:collapse;\"><tr><td  style=\"background-color:LightGray;border-left: 1px solid;border-right: 1px solid;border-top: 1px solid;border-bottom: 1px solid;\"><b>Property</b></td><td  style=\"background-color:LightGray;border-left: 1px solid;border-right: 1px solid;border-top: 1px solid;border-bottom: 1px solid;\"><b>Text</b></td><td  style=\"background-color:LightGray;border-left: 1px solid;border-right: 1px solid;border-top: 1px solid;border-bottom: 1px solid;\"><b>Confidence</b></td></tr><tr><td  style=\"background-color:Ivory;border-left: 1px solid;border-right: 1px solid;border-top: 1px solid;border-bottom: 1px solid;\">Caption</td><td  style=\"background-color:Ivory;border-left: 1px solid;border-right: 1px solid;border-top: 1px solid;border-bottom: 1px solid;\">Albert&nbsp;Einstein&nbsp;wearing&nbsp;a&nbsp;white&nbsp;shirt&nbsp;and&nbsp;black&nbsp;hair</td><td  style=\"background-color:Ivory;border-left: 1px solid;border-right: 1px solid;border-top: 1px solid;border-bottom: 1px solid;\">0.583</td></tr></table></td></table>"
      ],
      "text/plain": [
       "<IPython.core.display.HTML object>"
      ]
     },
     "metadata": {},
     "output_type": "display_data"
    }
   ],
   "source": [
    "# Example 1\n",
    "image_url = \"http://thequotes.in/wp-content/uploads/2016/05/Albert-Einstein-Quotes-26.jpg\"\n",
    "display(HTML(analyze_image(image_url)))"
   ]
  },
  {
   "cell_type": "code",
   "execution_count": 4,
   "metadata": {
    "collapsed": false
   },
   "outputs": [
    {
     "data": {
      "text/html": [
       "<table><tr><td><img src='https://mspoweruser.com/wp-content/uploads/2017/01/sala-completa_02-e1484195690951.jpg' width='500'/></td><td><table border=\"1\" cellpadding=\"3\" cellspacing=\"0\"  style=\"border:black; border-collapse:collapse;\"><tr><td  style=\"background-color:LightGray;border-left: 1px solid;border-right: 1px solid;border-top: 1px solid;border-bottom: 1px solid;\"><b>Property</b></td><td  style=\"background-color:LightGray;border-left: 1px solid;border-right: 1px solid;border-top: 1px solid;border-bottom: 1px solid;\"><b>Text</b></td><td  style=\"background-color:LightGray;border-left: 1px solid;border-right: 1px solid;border-top: 1px solid;border-bottom: 1px solid;\"><b>Confidence</b></td></tr><tr><td  style=\"background-color:Ivory;border-left: 1px solid;border-right: 1px solid;border-top: 1px solid;border-bottom: 1px solid;\">Caption</td><td  style=\"background-color:Ivory;border-left: 1px solid;border-right: 1px solid;border-top: 1px solid;border-bottom: 1px solid;\">a&nbsp;group&nbsp;of&nbsp;people&nbsp;sitting&nbsp;on&nbsp;a&nbsp;stage&nbsp;in&nbsp;front&nbsp;of&nbsp;a&nbsp;crowd</td><td  style=\"background-color:Ivory;border-left: 1px solid;border-right: 1px solid;border-top: 1px solid;border-bottom: 1px solid;\">0.691</td></tr></table></td></table>"
      ],
      "text/plain": [
       "<IPython.core.display.HTML object>"
      ]
     },
     "metadata": {},
     "output_type": "display_data"
    }
   ],
   "source": [
    "# Example 2\n",
    "image_url = \"https://mspoweruser.com/wp-content/uploads/2017/01/sala-completa_02-e1484195690951.jpg\"\n",
    "display(HTML(analyze_image(image_url)))"
   ]
  },
  {
   "cell_type": "code",
   "execution_count": 5,
   "metadata": {
    "collapsed": false
   },
   "outputs": [
    {
     "data": {
      "text/html": [
       "<table><tr><td><img src='https://www.what-dog.net/Images/faces2/scroll0015.jpg' width='500'/></td><td><table border=\"1\" cellpadding=\"3\" cellspacing=\"0\"  style=\"border:black; border-collapse:collapse;\"><tr><td  style=\"background-color:LightGray;border-left: 1px solid;border-right: 1px solid;border-top: 1px solid;border-bottom: 1px solid;\"><b>Property</b></td><td  style=\"background-color:LightGray;border-left: 1px solid;border-right: 1px solid;border-top: 1px solid;border-bottom: 1px solid;\"><b>Text</b></td><td  style=\"background-color:LightGray;border-left: 1px solid;border-right: 1px solid;border-top: 1px solid;border-bottom: 1px solid;\"><b>Confidence</b></td></tr><tr><td  style=\"background-color:Ivory;border-left: 1px solid;border-right: 1px solid;border-top: 1px solid;border-bottom: 1px solid;\">Caption</td><td  style=\"background-color:Ivory;border-left: 1px solid;border-right: 1px solid;border-top: 1px solid;border-bottom: 1px solid;\">a&nbsp;dog&nbsp;sitting&nbsp;on&nbsp;a&nbsp;yellow&nbsp;flower</td><td  style=\"background-color:Ivory;border-left: 1px solid;border-right: 1px solid;border-top: 1px solid;border-bottom: 1px solid;\">0.865</td></tr></table></td></table>"
      ],
      "text/plain": [
       "<IPython.core.display.HTML object>"
      ]
     },
     "metadata": {},
     "output_type": "display_data"
    }
   ],
   "source": [
    "# Example 3\n",
    "image_url = \"https://www.what-dog.net/Images/faces2/scroll0015.jpg\"\n",
    "display(HTML(analyze_image(image_url)))"
   ]
  },
  {
   "cell_type": "code",
   "execution_count": null,
   "metadata": {
    "collapsed": true
   },
   "outputs": [],
   "source": []
  }
 ],
 "metadata": {
  "kernelspec": {
   "display_name": "Python 2",
   "language": "python",
   "name": "python2"
  },
  "language_info": {
   "codemirror_mode": {
    "name": "ipython",
    "version": 2
   },
   "file_extension": ".py",
   "mimetype": "text/x-python",
   "name": "python",
   "nbconvert_exporter": "python",
   "pygments_lexer": "ipython2",
   "version": "2.7.11"
  }
 },
 "nbformat": 4,
 "nbformat_minor": 0
}
